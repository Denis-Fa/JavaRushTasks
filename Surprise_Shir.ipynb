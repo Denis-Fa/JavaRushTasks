{
  "nbformat": 4,
  "nbformat_minor": 0,
  "metadata": {
    "colab": {
      "provenance": [],
      "authorship_tag": "ABX9TyMt/gsTVXs6J2b/AM8DbDZR",
      "include_colab_link": true
    },
    "kernelspec": {
      "name": "python3",
      "display_name": "Python 3"
    },
    "language_info": {
      "name": "python"
    }
  },
  "cells": [
    {
      "cell_type": "markdown",
      "metadata": {
        "id": "view-in-github",
        "colab_type": "text"
      },
      "source": [
        "<a href=\"https://colab.research.google.com/github/Denis-Fa/JavaRushTasks/blob/master/Surprise_Shir.ipynb\" target=\"_parent\"><img src=\"https://colab.research.google.com/assets/colab-badge.svg\" alt=\"Open In Colab\"/></a>"
      ]
    },
    {
      "cell_type": "code",
      "execution_count": null,
      "metadata": {
        "id": "Luy-dunJrh6z",
        "colab": {
          "base_uri": "https://localhost:8080/"
        },
        "outputId": "84c2adc1-3f91-424b-f664-19f54024f656"
      },
      "outputs": [
        {
          "output_type": "stream",
          "name": "stdout",
          "text": [
            "Requirement already satisfied: scikit-surprise in /usr/local/lib/python3.10/dist-packages (1.1.3)\n",
            "Requirement already satisfied: joblib>=1.0.0 in /usr/local/lib/python3.10/dist-packages (from scikit-surprise) (1.3.2)\n",
            "Requirement already satisfied: numpy>=1.17.3 in /usr/local/lib/python3.10/dist-packages (from scikit-surprise) (1.23.5)\n",
            "Requirement already satisfied: scipy>=1.3.2 in /usr/local/lib/python3.10/dist-packages (from scikit-surprise) (1.11.4)\n",
            "Requirement already satisfied: flask in /usr/local/lib/python3.10/dist-packages (2.2.5)\n",
            "Requirement already satisfied: Werkzeug>=2.2.2 in /usr/local/lib/python3.10/dist-packages (from flask) (3.0.1)\n",
            "Requirement already satisfied: Jinja2>=3.0 in /usr/local/lib/python3.10/dist-packages (from flask) (3.1.3)\n",
            "Requirement already satisfied: itsdangerous>=2.0 in /usr/local/lib/python3.10/dist-packages (from flask) (2.1.2)\n",
            "Requirement already satisfied: click>=8.0 in /usr/local/lib/python3.10/dist-packages (from flask) (8.1.7)\n",
            "Requirement already satisfied: MarkupSafe>=2.0 in /usr/local/lib/python3.10/dist-packages (from Jinja2>=3.0->flask) (2.1.3)\n"
          ]
        }
      ],
      "source": [
        "!pip install scikit-surprise\n",
        "!pip install flask"
      ]
    },
    {
      "cell_type": "markdown",
      "source": [
        "Шаг 1: Импорт необходимых библиотек.\n",
        "Для начала импортируем необходимые библиотеки, включая Surprise для создания и обучения модели рекомендательной системы."
      ],
      "metadata": {
        "id": "mzdTXa4U1m5X"
      }
    },
    {
      "cell_type": "code",
      "source": [
        "import random\n",
        "import pandas as pd\n",
        "from surprise import Dataset, Reader, SVD\n",
        "from surprise.model_selection import train_test_split\n",
        "from surprise import accuracy\n",
        "\n",
        "from collections import defaultdict\n",
        "from surprise import Dataset, SVD\n",
        "\n",
        "from surprise.model_selection import GridSearchCV\n",
        "\n",
        "from flask import Flask, jsonify\n"
      ],
      "metadata": {
        "id": "Mtzkcmuc1lPI"
      },
      "execution_count": null,
      "outputs": []
    },
    {
      "cell_type": "markdown",
      "source": [
        "Шаг 2: Создание собственного датасета.\n",
        "Cоздадим собственный датасет, который будет содержать информацию о пользователях, товарах и их оценках. В этом примере мы создадим случайные данные для пользователей и товаров."
      ],
      "metadata": {
        "id": "wAl0rqdN13GJ"
      }
    },
    {
      "cell_type": "code",
      "source": [
        "# Создаем список пользователей и инструментов\n",
        "users = [str(i) for i in range(1, 101)]\n",
        "tools = [str(i) for i in range(1, 201)]\n",
        "\n",
        "# Генерируем случайные оценки пользователей для инструментов\n",
        "data = []\n",
        "for user in users:\n",
        "    for tool in tools:\n",
        "        rating = random.randint(1, 5)\n",
        "        data.append([user, tool, rating])\n",
        "\n",
        "# Создаем DataFrame из данных\n",
        "df = pd.DataFrame(data, columns=['user_id', 'tool_id', 'rating'])\n",
        "\n",
        "# Создаем объект Reader для определения формата данных\n",
        "reader = Reader(rating_scale=(1, 5))\n",
        "\n",
        "# Создаем датасет из DataFrame и объекта Reader\n",
        "dataset = Dataset.load_from_df(df[['user_id', 'tool_id', 'rating']], reader)"
      ],
      "metadata": {
        "id": "B6j8I05G2Dyc"
      },
      "execution_count": null,
      "outputs": []
    },
    {
      "cell_type": "markdown",
      "source": [
        "Шаг 3: Разделение данных на обучающий и тестовый наборы.\n",
        "Для оценки производительности модели разделим данные на обучающий и тестовый наборы."
      ],
      "metadata": {
        "id": "kpcYAZuG2fZX"
      }
    },
    {
      "cell_type": "code",
      "source": [
        "trainset, testset = train_test_split(dataset, test_size=0.2, random_state=42)\n"
      ],
      "metadata": {
        "id": "fNuITGQ72hSb"
      },
      "execution_count": null,
      "outputs": []
    },
    {
      "cell_type": "markdown",
      "source": [
        "Шаг 4: Создание и обучение модели.\n",
        "Теперь создадим модель рекомендательной системы. В этом примере мы используем модель SVD."
      ],
      "metadata": {
        "id": "Zo5IkNyb2kej"
      }
    },
    {
      "cell_type": "code",
      "source": [
        "model = SVD()\n",
        "model.fit(trainset)"
      ],
      "metadata": {
        "colab": {
          "base_uri": "https://localhost:8080/"
        },
        "id": "EOpO4_i62nMK",
        "outputId": "eb37485b-cb40-4ac8-c9f9-c0b874fb8aa3"
      },
      "execution_count": null,
      "outputs": [
        {
          "output_type": "execute_result",
          "data": {
            "text/plain": [
              "<surprise.prediction_algorithms.matrix_factorization.SVD at 0x7e70ce49fe50>"
            ]
          },
          "metadata": {},
          "execution_count": 39
        }
      ]
    },
    {
      "cell_type": "markdown",
      "source": [
        "Шаг 5: Получение прогнозов и оценка производительности модели.\n",
        "Мы получим прогнозы на тестовом наборе и оценим производительность модели."
      ],
      "metadata": {
        "id": "28LeCJaB2qp4"
      }
    },
    {
      "cell_type": "code",
      "source": [
        "predictions = model.test(testset)\n",
        "\n",
        "mae = accuracy.mae(predictions)\n",
        "rmse = accuracy.rmse(predictions)\n",
        "\n",
        "print(f'MAE: {mae}')\n",
        "print(f'RMSE: {rmse}')"
      ],
      "metadata": {
        "colab": {
          "base_uri": "https://localhost:8080/"
        },
        "id": "K18kSSXT2uM8",
        "outputId": "f7799b4e-703a-43c0-ff5b-43ccbab7dd9c"
      },
      "execution_count": null,
      "outputs": [
        {
          "output_type": "stream",
          "name": "stdout",
          "text": [
            "MAE:  1.2746\n",
            "RMSE: 1.4929\n",
            "MAE: 1.2746096661985558\n",
            "RMSE: 1.492867037844062\n"
          ]
        }
      ]
    },
    {
      "cell_type": "markdown",
      "source": [
        "Шаг 6: Получение рекомендаций для конкретного пользователя.\n",
        "Теперь мы можем получить персонализированные рекомендации для конкретного пользователя. Для этого выберем случайного пользователя и получим рекомендации."
      ],
      "metadata": {
        "id": "dDwyMla42ycF"
      }
    },
    {
      "cell_type": "code",
      "source": [
        "# Выбираем случайного пользователя\n",
        "user_id = random.choice(users)\n",
        "\n",
        "from collections import defaultdict\n",
        "\n",
        "from surprise import Dataset, SVD\n",
        "\n",
        "\n",
        "def get_top_n(predictions, n=10):\n",
        "    \"\"\"Возвращает первые N рекомендаций для каждого пользователя из набора прогнозов.\n",
        "\n",
        "     Аргументы:\n",
        "         предсказания (список объектов предсказаний): список предсказаний, как\n",
        "             возвращается тестовым методом алгоритма.\n",
        "         n(int): количество рекомендаций для вывода для каждого пользователя. По умолчанию\n",
        "             это 10.\n",
        "\n",
        "     Возврат:\n",
        "     Словарь, в котором ключи представляют собой идентификаторы пользователей (необработанные), а значения представляют собой списки кортежей:\n",
        "         [(raw item id, rating estimation), ...] of size n.\n",
        "    \"\"\"\n",
        "\n",
        "    # Сначала сопоставим прогнозы с каждым пользователем..\n",
        "    top_n = defaultdict(list)\n",
        "    for uid, iid, true_r, est, _ in predictions:\n",
        "        top_n[uid].append((iid, est))\n",
        "\n",
        "    # Затем отсортируем прогнозы для каждого пользователя и извлечем k самых высоких.\n",
        "    for uid, user_ratings in top_n.items():\n",
        "        user_ratings.sort(key=lambda x: x[1], reverse=True)\n",
        "        top_n[uid] = user_ratings[:n]\n",
        "\n",
        "    return top_n\n",
        "\n",
        "# Получаем топ N рекомендаций для пользователя\n",
        "top_n = get_top_n(predictions, n=10)\n",
        "\n",
        "print(f\"Рекомендации инструментов для пользователя {user_id}:\")\n",
        "for tool_id, rating in top_n[user_id]:\n",
        "    print(f\"Инструмент ID: {tool_id}, Рейтинг: {rating}\")\n"
      ],
      "metadata": {
        "colab": {
          "base_uri": "https://localhost:8080/"
        },
        "id": "AnysfdHA22Lh",
        "outputId": "3b51befa-00b2-4adc-8794-8e8afacdc5d9"
      },
      "execution_count": null,
      "outputs": [
        {
          "output_type": "stream",
          "name": "stdout",
          "text": [
            "Рекомендации инструментов для пользователя 24:\n",
            "Инструмент ID: 114, Рейтинг: 3.8615747011070995\n",
            "Инструмент ID: 129, Рейтинг: 3.8567198404068463\n",
            "Инструмент ID: 136, Рейтинг: 3.6891530725777666\n",
            "Инструмент ID: 200, Рейтинг: 3.637350340731583\n",
            "Инструмент ID: 22, Рейтинг: 3.6050154724394767\n",
            "Инструмент ID: 43, Рейтинг: 3.5759054458954056\n",
            "Инструмент ID: 29, Рейтинг: 3.4485852685387925\n",
            "Инструмент ID: 74, Рейтинг: 3.442959889731693\n",
            "Инструмент ID: 196, Рейтинг: 3.4087214686852114\n",
            "Инструмент ID: 150, Рейтинг: 3.2843564721694256\n"
          ]
        }
      ]
    },
    {
      "cell_type": "markdown",
      "source": [
        "Шаг 7: Настройка параметров модели.\n",
        "Для настройки параметров модели, мы можем использовать методы подбора гиперпараметров, такие как GridSearchCV из scikit-learn."
      ],
      "metadata": {
        "id": "KvkTiE653M1J"
      }
    },
    {
      "cell_type": "code",
      "source": [
        "# Создаем объект модели SVD\n",
        "model = SVD()\n",
        "\n",
        "param_grid = {'n_factors': [50, 100, 150],\n",
        "              'n_epochs': [20, 30, 40],\n",
        "              'lr_all': [0.002, 0.005, 0.01],\n",
        "              'reg_all': [0.02, 0.04, 0.06]}\n",
        "\n",
        "# Используем GridSearchCV для подбора параметров\n",
        "grid_search = GridSearchCV(SVD,\n",
        "                           param_grid=param_grid,\n",
        "                           measures=['rmse'],\n",
        "                           cv=5)\n",
        "\n",
        "# Выполняем GridSearchCV\n",
        "grid_search.fit(dataset)\n",
        "\n",
        "# Получаем наилучшие параметры\n",
        "best_params = grid_search.best_params['rmse']\n",
        "print(f'Наилучшие параметры: {best_params}')\n",
        "\n",
        "# Создаем объект модели SVD с наилучшими параметрами\n",
        "model = SVD(n_factors=best_params['n_factors'],\n",
        "            n_epochs=best_params['n_epochs'],\n",
        "            lr_all=best_params['lr_all'],\n",
        "            reg_all=best_params['reg_all'])\n",
        "\n",
        "# Обучаем модель с наилучшими параметрами\n",
        "model.fit(trainset)\n",
        "\n",
        "# Делаем предсказания на тестовом наборе\n",
        "predictions = model.test(testset)\n",
        "\n",
        "# Вычисляем показатели производительности\n",
        "mae = accuracy.mae(predictions)\n",
        "rmse = accuracy.rmse(predictions)\n",
        "\n",
        "print(f'MAE: {mae}')\n",
        "print(f'RMSE: {rmse}')\n"
      ],
      "metadata": {
        "colab": {
          "base_uri": "https://localhost:8080/"
        },
        "id": "VBZbzQjR3QO2",
        "outputId": "74246b24-c7bf-4979-f191-f5c3764178a6"
      },
      "execution_count": null,
      "outputs": [
        {
          "output_type": "stream",
          "name": "stdout",
          "text": [
            "Наилучшие параметры: {'n_factors': 50, 'n_epochs': 20, 'lr_all': 0.002, 'reg_all': 0.06}\n",
            "MAE:  1.2193\n",
            "RMSE: 1.4149\n",
            "MAE: 1.2193176047094967\n",
            "RMSE: 1.41487189819824\n"
          ]
        }
      ]
    },
    {
      "cell_type": "markdown",
      "source": [
        "Шаг 8: Интеграция в магазин инструментов.\n",
        "Чтобы интегрировать рекомендательную систему в магазин, мы можем создать функцию, которая будет предоставлять рекомендации на основе предпочтений пользователя. Это может быть вызвано на странице пользователя или странице инструмента."
      ],
      "metadata": {
        "id": "e6uQLCWoBATR"
      }
    },
    {
      "cell_type": "code",
      "source": [
        "def get_top_n(predictions, user_id, n=10):\n",
        "    \"\"\"Получение топ-N рекомендаций для пользователя\"\"\"\n",
        "    top_n = defaultdict(list)\n",
        "    for uid, iid, _, est, _ in predictions:\n",
        "        if uid == user_id:\n",
        "            top_n[uid].append((iid, est))\n",
        "\n",
        "    for uid, user_ratings in top_n.items():\n",
        "        user_ratings.sort(key=lambda x: x[1], reverse=True)\n",
        "        top_n[uid] = user_ratings[:n]\n",
        "\n",
        "    return top_n[user_id]\n",
        "\n",
        "# Использование функции в магазине\n",
        "user_id = '42'\n",
        "recommended_toolss = get_top_n(predictions, user_id)\n"
      ],
      "metadata": {
        "id": "Gfo3rN-a3b06"
      },
      "execution_count": null,
      "outputs": []
    },
    {
      "cell_type": "markdown",
      "source": [
        "Для интеграции модели рекомендательной системы с веб-приложением на Java понадобится выполнить следующий шаг:\n",
        "\n",
        " Экспортирую обученную модель, созданную в коде Python, в файл (например, в формате pickle), чтобы ее можно было загрузить и использовать в Java. Для этого использую модуль pickle в Python:"
      ],
      "metadata": {
        "id": "UGbWhUiWiPUl"
      }
    },
    {
      "cell_type": "code",
      "source": [
        "import pickle\n",
        "\n",
        "# Сохранение обученной модели в файл\n",
        "\n",
        "with open('model_surprise.pkl', 'wb') as file:\n",
        "    pickle.dump(model, file)\n",
        "\n"
      ],
      "metadata": {
        "id": "dSGCul8OicTf"
      },
      "execution_count": null,
      "outputs": []
    },
    {
      "cell_type": "markdown",
      "source": [
        " Создайте экземпляр объекта Flask:"
      ],
      "metadata": {
        "id": "QcEsCXP7usyV"
      }
    },
    {
      "cell_type": "code",
      "source": [
        "from flask import Flask\n",
        "\n",
        "app = Flask(__name__)\n",
        "\n",
        "@app.route(\"/\")\n",
        "def hello():\n",
        "    return \"Welcome to machine learning model APIs!\"\n",
        "\n",
        "if __name__ == '__main__':\n",
        "    app.run(debug=True)\n",
        "\n"
      ],
      "metadata": {
        "colab": {
          "base_uri": "https://localhost:8080/"
        },
        "id": "bCg-zMNpH9Hd",
        "outputId": "b342c498-805a-4b7c-8bf0-680bacffa15b"
      },
      "execution_count": 47,
      "outputs": [
        {
          "metadata": {
            "tags": null
          },
          "name": "stdout",
          "output_type": "stream",
          "text": [
            " * Serving Flask app '__main__'\n",
            " * Debug mode: on\n"
          ]
        },
        {
          "metadata": {
            "tags": null
          },
          "name": "stderr",
          "output_type": "stream",
          "text": [
            "INFO:werkzeug:\u001b[31m\u001b[1mWARNING: This is a development server. Do not use it in a production deployment. Use a production WSGI server instead.\u001b[0m\n",
            " * Running on http://127.0.0.1:5000\n",
            "INFO:werkzeug:\u001b[33mPress CTRL+C to quit\u001b[0m\n",
            "INFO:werkzeug: * Restarting with stat\n"
          ]
        }
      ]
    },
    {
      "cell_type": "code",
      "source": [
        "app = Flask(__name__)\n"
      ],
      "metadata": {
        "id": "t7c4nMy-usKg"
      },
      "execution_count": null,
      "outputs": []
    },
    {
      "cell_type": "markdown",
      "source": [
        "3. Определите конечную точку вашего API (например, /predict) и определите функцию-обработчик для этой конечной точки. В этой функции вы будете использовать вашу обученную модель для делегирования запроса на предсказание:"
      ],
      "metadata": {
        "id": "JA750ykXuyuD"
      }
    },
    {
      "cell_type": "code",
      "source": [
        "@app.route('/predict', methods=['POST'])\n",
        "def predict():\n",
        "    data = request.get_json()  # Принимаем данные в формате JSON\n",
        "    user_id = data['user_id']\n",
        "\n",
        "    # Используйте вашу обученную модель для выполнения предсказания\n",
        "    # Получите рекомендации для заданного user_id\n",
        "    # ...\n",
        "\n",
        "    # Верните результат в формате JSON\n",
        "    return jsonify(__name__)\n"
      ],
      "metadata": {
        "id": "AivLcMMju0xJ"
      },
      "execution_count": null,
      "outputs": []
    },
    {
      "cell_type": "markdown",
      "source": [
        "4. Запустите приложение Flask:"
      ],
      "metadata": {
        "id": "V-mJBklPu2_e"
      }
    },
    {
      "cell_type": "code",
      "source": [
        "if __name__ == '__main__':\n",
        "    app.run(host=\"0.0.0.0\", port=5000)\n"
      ],
      "metadata": {
        "colab": {
          "base_uri": "https://localhost:8080/"
        },
        "id": "o_DcDT7vu4zn",
        "outputId": "8e24c388-a85f-4bee-ada8-d7b943db8e33"
      },
      "execution_count": null,
      "outputs": [
        {
          "metadata": {
            "tags": null
          },
          "name": "stdout",
          "output_type": "stream",
          "text": [
            " * Serving Flask app '__main__'\n",
            " * Debug mode: off\n"
          ]
        },
        {
          "metadata": {
            "tags": null
          },
          "name": "stderr",
          "output_type": "stream",
          "text": [
            "INFO:werkzeug:\u001b[31m\u001b[1mWARNING: This is a development server. Do not use it in a production deployment. Use a production WSGI server instead.\u001b[0m\n",
            " * Running on all addresses (0.0.0.0)\n",
            " * Running on http://127.0.0.1:5000\n",
            " * Running on http://172.28.0.12:5000\n",
            "INFO:werkzeug:\u001b[33mPress CTRL+C to quit\u001b[0m\n"
          ]
        }
      ]
    },
    {
      "cell_type": "code",
      "source": [
        "!curl ipecho.net/plain\n"
      ],
      "metadata": {
        "colab": {
          "base_uri": "https://localhost:8080/"
        },
        "id": "04nmvcFd25W_",
        "outputId": "3867ae23-0345-4652-81b2-d4f2cbbb2bcb"
      },
      "execution_count": null,
      "outputs": [
        {
          "output_type": "stream",
          "name": "stdout",
          "text": [
            "34.73.151.156"
          ]
        }
      ]
    }
  ]
}